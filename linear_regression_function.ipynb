{
 "cells": [
  {
   "cell_type": "code",
   "execution_count": 1,
   "id": "5542fe24",
   "metadata": {},
   "outputs": [],
   "source": [
    "import numpy as np\n",
    "from sklearn.model_selection import train_test_split\n",
    "from sklearn import datasets\n",
    "import matplotlib.pyplot as plt"
   ]
  },
  {
   "cell_type": "code",
   "execution_count": 2,
   "id": "5b055e6b",
   "metadata": {},
   "outputs": [
    {
     "name": "stdout",
     "output_type": "stream",
     "text": [
      "[[-1.3474603 ]\n",
      " [ 0.3523434 ]\n",
      " [ 0.9546986 ]\n",
      " [ 0.03592805]\n",
      " [ 0.04800625]\n",
      " [ 0.04860301]\n",
      " [ 0.72334161]\n",
      " [ 0.80208661]\n",
      " [-1.14379857]\n",
      " [ 0.17941071]\n",
      " [-0.64770677]\n",
      " [-1.11281215]\n",
      " [-1.58457724]\n",
      " [-0.08798693]\n",
      " [ 2.47658416]\n",
      " [-0.7322647 ]\n",
      " [ 1.54697933]\n",
      " [-0.13070464]\n",
      " [ 0.30044554]\n",
      " [-0.9443686 ]\n",
      " [-0.30296397]\n",
      " [-0.37444492]\n",
      " [-1.15681626]\n",
      " [ 0.59857517]\n",
      " [-2.37977527]\n",
      " [-0.60768369]\n",
      " [ 0.54245131]\n",
      " [ 2.02240507]\n",
      " [ 0.04613557]\n",
      " [ 0.52324766]\n",
      " [ 0.29714121]\n",
      " [-1.54292905]\n",
      " [ 1.69235772]\n",
      " [ 0.20931349]\n",
      " [-0.41830152]\n",
      " [ 0.87084178]\n",
      " [-1.14747663]\n",
      " [-0.17521053]\n",
      " [-0.9617768 ]\n",
      " [ 0.1886462 ]\n",
      " [ 1.20200259]\n",
      " [ 1.99008302]\n",
      " [-1.36096559]\n",
      " [-0.05455871]\n",
      " [ 1.16418756]\n",
      " [-1.45553433]\n",
      " [ 0.01908996]\n",
      " [-0.77873992]\n",
      " [ 0.03754749]\n",
      " [-0.34610187]\n",
      " [-0.65122583]\n",
      " [ 0.15846954]\n",
      " [-1.20894816]\n",
      " [-0.64764453]\n",
      " [ 0.91484096]\n",
      " [-1.84087587]\n",
      " [ 0.49995133]\n",
      " [ 1.27181862]\n",
      " [ 0.69359851]\n",
      " [ 0.55618522]\n",
      " [ 0.4250724 ]\n",
      " [-1.09712188]\n",
      " [-0.5648753 ]\n",
      " [ 0.35099715]\n",
      " [ 0.83783635]\n",
      " [ 0.05443274]\n",
      " [-0.0093601 ]\n",
      " [-2.35807363]\n",
      " [-0.98299165]\n",
      " [ 0.93465006]\n",
      " [ 0.79523395]\n",
      " [ 0.50991978]\n",
      " [-0.17146461]\n",
      " [ 0.15989294]\n",
      " [ 2.22336022]\n",
      " [ 0.33225315]\n",
      " [ 0.05056171]\n",
      " [-0.52819607]\n",
      " [ 0.43027133]\n",
      " [ 1.63574754]\n",
      " [ 0.78660228]\n",
      " [-0.60688728]\n",
      " [ 0.39429521]\n",
      " [ 0.7965119 ]\n",
      " [-1.07529009]\n",
      " [-0.19674528]\n",
      " [ 0.8365287 ]\n",
      " [-0.49581852]\n",
      " [ 1.3799201 ]\n",
      " [ 0.067471  ]\n",
      " [-0.99590893]\n",
      " [-0.90543814]\n",
      " [-0.27620335]\n",
      " [ 0.24266016]\n",
      " [ 0.50977885]\n",
      " [ 0.33225003]\n",
      " [-1.10558404]\n",
      " [ 2.08787087]\n",
      " [ 0.28086468]\n",
      " [ 0.61866969]]\n",
      "[-126.24922409   50.92876904   63.15463302    6.05472009   -5.72954025\n",
      "   -2.75191769   58.70355923   53.81362958  -95.34105851   24.64812471\n",
      "  -59.41697406  -73.42349619 -104.16266749   31.80766772  171.15350154\n",
      "  -67.75196497  141.46769811  -24.36756973   -2.11240097  -32.59583109\n",
      "  -29.41505819  -37.87145989 -101.89829601   46.41287784 -181.34840044\n",
      "  -31.77399504   24.13154879  163.94385144   10.77367111   37.35891532\n",
      "    0.98036703 -120.88573188  138.19938797    9.20267903  -16.2068899\n",
      "   33.21708479  -45.61698488   -1.77758908 -105.56283971    5.26394625\n",
      "   89.5978923   146.10300439  -77.78704394   -3.80893607   60.81195812\n",
      "  -97.2027103    -1.15989334  -43.88245964   15.74278405  -24.27446551\n",
      "  -90.60148118  -19.07314539 -101.79001521  -56.55140067   52.1696979\n",
      " -158.28468928   64.53968736   84.52102913   66.43434451   36.86598297\n",
      "   37.43779494  -82.91713341  -21.4183161    -5.54348338   59.88451573\n",
      "    8.3784894   -17.17634894 -160.50895428 -100.73717846   80.30335894\n",
      "   69.64956653   28.14443518    9.7630474    41.12497399  176.92831393\n",
      "    9.55981705   -4.40463276  -24.03585202   19.1701073   102.48327018\n",
      "  101.52088195  -58.51318402   17.68768961   63.05366753 -102.36728191\n",
      "   -1.65856494   64.66264562  -44.1299115   117.99658351   -4.63168152\n",
      "  -76.71464299  -67.2815873   -12.46435171   24.2973507    31.43120085\n",
      "   34.44108322  -74.76820338  160.99602125   40.69772522   33.43401768]\n"
     ]
    }
   ],
   "source": [
    "#now we are going to generate random samples using the sklearn library\n",
    "X,y=datasets.make_regression(n_samples=100,n_features=1,noise=20,random_state=4) #n_samples creates 100 random sample\n",
    "print(X)                                                                         #n_features means 1 columns of data that is simple linear regression\n",
    "print(y)                                                                         #noise makes the data less perfect otherwise it will be a linear one "
   ]
  },
  {
   "cell_type": "code",
   "execution_count": 3,
   "id": "9169429c",
   "metadata": {},
   "outputs": [
    {
     "name": "stdout",
     "output_type": "stream",
     "text": [
      "[[ 0.17941071]\n",
      " [ 0.15846954]\n",
      " [ 0.52324766]\n",
      " [ 1.3799201 ]\n",
      " [ 0.33225315]\n",
      " [ 2.22336022]\n",
      " [-0.5648753 ]\n",
      " [-0.0093601 ]\n",
      " [ 1.63574754]\n",
      " [ 0.03754749]\n",
      " [ 0.04800625]\n",
      " [ 0.83783635]\n",
      " [-0.64770677]\n",
      " [ 0.24266016]\n",
      " [ 1.27181862]\n",
      " [-0.17146461]\n",
      " [-1.14747663]\n",
      " [ 0.80208661]\n",
      " [ 0.91484096]\n",
      " [-0.52819607]\n",
      " [-0.37444492]\n",
      " [ 0.30044554]\n",
      " [ 0.79523395]\n",
      " [ 0.8365287 ]\n",
      " [-1.15681626]\n",
      " [ 0.72334161]\n",
      " [ 1.16418756]\n",
      " [-1.14379857]\n",
      " [ 1.99008302]\n",
      " [ 1.54697933]\n",
      " [-1.45553433]\n",
      " [-0.30296397]\n",
      " [-0.60768369]\n",
      " [-1.84087587]\n",
      " [ 0.43027133]\n",
      " [-1.54292905]\n",
      " [-0.27620335]\n",
      " [ 0.04860301]\n",
      " [-1.07529009]\n",
      " [ 1.69235772]\n",
      " [-1.20894816]\n",
      " [-0.08798693]\n",
      " [-0.90543814]\n",
      " [-0.13070464]\n",
      " [ 0.04613557]\n",
      " [ 0.01908996]\n",
      " [ 0.4250724 ]\n",
      " [ 2.47658416]\n",
      " [ 0.05443274]\n",
      " [-1.58457724]\n",
      " [-0.9443686 ]\n",
      " [ 0.9546986 ]\n",
      " [ 0.03592805]\n",
      " [-1.3474603 ]\n",
      " [-1.11281215]\n",
      " [-2.35807363]\n",
      " [ 2.08787087]\n",
      " [-0.41830152]\n",
      " [-0.17521053]\n",
      " [ 0.33225003]\n",
      " [-0.65122583]\n",
      " [ 0.61866969]\n",
      " [ 0.15989294]\n",
      " [ 0.78660228]\n",
      " [ 0.93465006]\n",
      " [ 0.69359851]\n",
      " [-0.99590893]\n",
      " [ 0.067471  ]\n",
      " [-0.05455871]\n",
      " [ 0.29714121]\n",
      " [ 0.54245131]\n",
      " [ 0.59857517]\n",
      " [-0.34610187]\n",
      " [-0.7322647 ]\n",
      " [-2.37977527]\n",
      " [ 0.05056171]\n",
      " [-0.64764453]\n",
      " [-0.9617768 ]\n",
      " [ 0.7965119 ]\n",
      " [-0.77873992]] [[ 1.20200259]\n",
      " [ 0.87084178]\n",
      " [-0.60688728]\n",
      " [-1.09712188]\n",
      " [ 0.28086468]\n",
      " [-0.98299165]\n",
      " [-0.19674528]\n",
      " [ 2.02240507]\n",
      " [ 0.1886462 ]\n",
      " [-1.36096559]\n",
      " [ 0.20931349]\n",
      " [ 0.55618522]\n",
      " [ 0.35099715]\n",
      " [ 0.50977885]\n",
      " [ 0.49995133]\n",
      " [-0.49581852]\n",
      " [-1.10558404]\n",
      " [ 0.3523434 ]\n",
      " [ 0.50991978]\n",
      " [ 0.39429521]] [  24.64812471  -19.07314539   37.35891532  117.99658351    9.55981705\n",
      "  176.92831393  -21.4183161   -17.17634894  102.48327018   15.74278405\n",
      "   -5.72954025   59.88451573  -59.41697406   24.2973507    84.52102913\n",
      "    9.7630474   -45.61698488   53.81362958   52.1696979   -24.03585202\n",
      "  -37.87145989   -2.11240097   69.64956653   64.66264562 -101.89829601\n",
      "   58.70355923   60.81195812  -95.34105851  146.10300439  141.46769811\n",
      "  -97.2027103   -29.41505819  -31.77399504 -158.28468928   19.1701073\n",
      " -120.88573188  -12.46435171   -2.75191769 -102.36728191  138.19938797\n",
      " -101.79001521   31.80766772  -67.2815873   -24.36756973   10.77367111\n",
      "   -1.15989334   37.43779494  171.15350154    8.3784894  -104.16266749\n",
      "  -32.59583109   63.15463302    6.05472009 -126.24922409  -73.42349619\n",
      " -160.50895428  160.99602125  -16.2068899    -1.77758908   34.44108322\n",
      "  -90.60148118   33.43401768   41.12497399  101.52088195   80.30335894\n",
      "   66.43434451  -76.71464299   -4.63168152   -3.80893607    0.98036703\n",
      "   24.13154879   46.41287784  -24.27446551  -67.75196497 -181.34840044\n",
      "   -4.40463276  -56.55140067 -105.56283971   63.05366753  -43.88245964] [  89.5978923    33.21708479  -58.51318402  -82.91713341   40.69772522\n",
      " -100.73717846   -1.65856494  163.94385144    5.26394625  -77.78704394\n",
      "    9.20267903   36.86598297   -5.54348338   31.43120085   64.53968736\n",
      "  -44.1299115   -74.76820338   50.92876904   28.14443518   17.68768961]\n"
     ]
    }
   ],
   "source": [
    "X_train,X_test,y_train,y_test=train_test_split(X,y,test_size=0.2,random_state=1234)\n",
    "print(X_train,X_test,y_train,y_test)"
   ]
  },
  {
   "cell_type": "code",
   "execution_count": 4,
   "id": "8a9ccbde",
   "metadata": {},
   "outputs": [
    {
     "data": {
      "image/png": "[encoded data removed]",
      "text/plain": [
       "<Figure size 576x432 with 1 Axes>"
      ]
     },
     "metadata": {
      "needs_background": "light"
     },
     "output_type": "display_data"
    },
    {
     "data": {
      "text/plain": [
       "'Okay so far we can understand that the data is graphically representes like this and we need to fit a line \\nthat fits the data.'"
      ]
     },
     "execution_count": 4,
     "metadata": {},
     "output_type": "execute_result"
    }
   ],
   "source": [
    "fig=plt.figure(figsize=(8,6))\n",
    "plt.scatter(X[:, 0],y,color=\"b\",marker='o',s=30)\n",
    "plt.show()\n",
    "\"\"\"Okay so far we can understand that the data is graphically representes like this and we need to fit a line \n",
    "that fits the data.\"\"\""
   ]
  },
  {
   "cell_type": "code",
   "execution_count": 5,
   "id": "c6983e31",
   "metadata": {},
   "outputs": [
    {
     "name": "stdout",
     "output_type": "stream",
     "text": [
      "(80, 1)\n",
      "(20,)\n"
     ]
    }
   ],
   "source": [
    "print(X_train.shape)\n",
    "print(y_test.shape)"
   ]
  },
  {
   "cell_type": "code",
   "execution_count": 8,
   "id": "df3851b7",
   "metadata": {},
   "outputs": [
    {
     "name": "stdout",
     "output_type": "stream",
     "text": [
      "305.7719958301902\n"
     ]
    }
   ],
   "source": [
    "from linear_regression import Linear_regression\n",
    "\n",
    "regressor = Linear_regression(lr=0.01)\n",
    "regressor.fit(X_train,y_train)\n",
    "predicted= regressor.predict(X_test)\n",
    "\n",
    "def mse(y_true,y_predicted):\n",
    "    return np.mean((y_true-y_predicted)**2)\n",
    "\n",
    "mse_value=mse(y_test,predicted)\n",
    "print(mse_value)"
   ]
  },
  {
   "cell_type": "code",
   "execution_count": 11,
   "id": "87e8c82b",
   "metadata": {},
   "outputs": [
    {
     "data": {
      "image/png": "[encoded data removed]",
      "text/plain": [
       "<Figure size 576x432 with 1 Axes>"
      ]
     },
     "metadata": {
      "needs_background": "light"
     },
     "output_type": "display_data"
    }
   ],
   "source": [
    "# Predict on the entire dataset for plotting the regression line\n",
    "y_pred_line = regressor.predict(X)\n",
    "\n",
    "# Plotting\n",
    "fig = plt.figure(figsize=(8, 6))\n",
    "plt.scatter(X, y, color=\"b\", marker='o', s=30, label=\"Actual data\")  # Scatter plot of actual data\n",
    "plt.plot(X, y_pred_line, color=\"r\", linewidth=2, label=\"Regression line\")  # Regression line\n",
    "plt.xlabel(\"Feature (X)\")\n",
    "plt.ylabel(\"Target (y)\")\n",
    "plt.title(\"Linear Regression Fit\")\n",
    "plt.legend()\n",
    "plt.show()"
   ]
  },
  {
   "cell_type": "code",
   "execution_count": null,
   "id": "77626954",
   "metadata": {},
   "outputs": [],
   "source": []
  }
 ],
 "metadata": {
  "kernelspec": {
   "display_name": "Python 3 (ipykernel)",
   "language": "python",
   "name": "python3"
  },
  "language_info": {
   "codemirror_mode": {
    "name": "ipython",
    "version": 3
   },
   "file_extension": ".py",
   "mimetype": "text/x-python",
   "name": "python",
   "nbconvert_exporter": "python",
   "pygments_lexer": "ipython3",
   "version": "3.9.12"
  }
 },
 "nbformat": 4,
 "nbformat_minor": 5
}
