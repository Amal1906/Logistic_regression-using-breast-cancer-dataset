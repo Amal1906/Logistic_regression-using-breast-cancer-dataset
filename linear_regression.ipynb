{
 "cells": [
  {
   "cell_type": "code",
   "execution_count": 1,
   "id": "0832d5fa",
   "metadata": {},
   "outputs": [],
   "source": [
    "import numpy as np"
   ]
  },
  {
   "cell_type": "code",
   "execution_count": 2,
   "id": "e8c96a21",
   "metadata": {},
   "outputs": [],
   "source": [
    "class Linear_regression:\n",
    "    \n",
    "    def __init__(self,lr=0.001,n_iter=1000):\n",
    "        self.lr=lr\n",
    "        self.n_iter=n_iter\n",
    "        self.weights=None\n",
    "        self.bias=None\n",
    "        \n",
    "    def fit(self,X,y):\n",
    "        #consider it as a matrix and we are multipling the inputs with the weights which we initialize with 0\n",
    "        #the bias we assign as 0\n",
    "        n_samples,n_features=X.shape\n",
    "        self.weights=np.zeros(n_features)\n",
    "        self.bias=0\n",
    "        \n",
    "        for _ in range(self.n_iter):\n",
    "            #we know the y_cap=wx+b \n",
    "            #using this predicted values we calculate the cost function inorder to update the weights\n",
    "            y_predicted=np.dot(X,self.weights) + self.bias\n",
    "            \n",
    "            #now we need to find the gradient okay!\n",
    "            #If we find the partial derivative of the cost function which is 1/N(sigma(y-y_predicted))**2 with respect to w\n",
    "            #also we need to find the patrial derivative of the cost function with respect to bias 'b' to update the weights\n",
    "            dw=(1/n_samples)*np.dot(X.T,(y_predicted-y))\n",
    "            db=(1/n_samples)*np.sum(y_predicted-y)\n",
    "            \n",
    "            self.weights= self.weights - (self.lr*dw)\n",
    "            self.bias=self.bias - (self.lr*db)\n",
    "            \n",
    "            \n",
    "    \n",
    "    def predict(self,X):\n",
    "        y_predicted  = np.dot(X,self.weights) + bias\n",
    "        return y_predicted\n",
    "    \n",
    "    "
   ]
  },
  {
   "cell_type": "code",
   "execution_count": null,
   "id": "93af454f",
   "metadata": {},
   "outputs": [],
   "source": []
  }
 ],
 "metadata": {
  "kernelspec": {
   "display_name": "Python 3 (ipykernel)",
   "language": "python",
   "name": "python3"
  },
  "language_info": {
   "codemirror_mode": {
    "name": "ipython",
    "version": 3
   },
   "file_extension": ".py",
   "mimetype": "text/x-python",
   "name": "python",
   "nbconvert_exporter": "python",
   "pygments_lexer": "ipython3",
   "version": "3.9.12"
  }
 },
 "nbformat": 4,
 "nbformat_minor": 5
}
